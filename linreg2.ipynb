{
  "nbformat": 4,
  "nbformat_minor": 0,
  "metadata": {
    "colab": {
      "provenance": []
    },
    "kernelspec": {
      "name": "python3",
      "display_name": "Python 3"
    },
    "language_info": {
      "name": "python"
    }
  },
  "cells": [
    {
      "cell_type": "markdown",
      "source": [
        "**Linear regression using OOP**"
      ],
      "metadata": {
        "id": "WuG5g4HRL--D"
      }
    },
    {
      "cell_type": "code",
      "source": [
        "#Modules\n",
        "import numpy as np\n",
        "import pandas as pd\n",
        "import matplotlib.pyplot as plt\n",
        "from numpy.polynomial import polynomial as P\n",
        "from sklearn.linear_model import LinearRegression #used to fit the linear regression model\n",
        "from sklearn.model_selection import train_test_split  #used to split the data"
      ],
      "metadata": {
        "id": "uKCPvWm_MGH8"
      },
      "execution_count": null,
      "outputs": []
    },
    {
      "cell_type": "code",
      "source": [
        "#importing the needed file\n",
        "df = pd.read_csv('/content/drive/MyDrive/data/linregsample - Sheet1.csv')\n",
        "x = df['X']\n",
        "y = df['Y']\n"
      ],
      "metadata": {
        "id": "t0S7X6Xl9Aj_"
      },
      "execution_count": null,
      "outputs": []
    },
    {
      "cell_type": "code",
      "source": [
        "#split the data into training and testing set\n",
        "x_train,x_test,y_train,y_test  = train_test_split(x,y)\n",
        "x_train=x_train.reset_index(drop=True)\n",
        "x_test=x_test.reset_index(drop=True)\n",
        "y_train=y_train.reset_index(drop=True)\n",
        "y_test=y_test.reset_index(drop=True)\n"
      ],
      "metadata": {
        "colab": {
          "base_uri": "https://localhost:8080/"
        },
        "id": "WEmBQ5xqBC70",
        "outputId": "9545c245-4eb4-4a6f-a23c-10d688638c23"
      },
      "execution_count": null,
      "outputs": [
        {
          "output_type": "execute_result",
          "data": {
            "text/plain": [
              "(0       84\n",
              " 1       94\n",
              " 2       37\n",
              " 3       10\n",
              " 4      292\n",
              "       ... \n",
              " 220    215\n",
              " 221      1\n",
              " 222    276\n",
              " 223    256\n",
              " 224    220\n",
              " Name: X, Length: 225, dtype: int64,\n",
              " 0       59.222220\n",
              " 1       65.888890\n",
              " 2       27.888890\n",
              " 3        9.888889\n",
              " 4      197.888900\n",
              "           ...    \n",
              " 220    146.555600\n",
              " 221      3.888889\n",
              " 222    187.222200\n",
              " 223    173.888900\n",
              " 224    149.888900\n",
              " Name: Y, Length: 225, dtype: float64)"
            ]
          },
          "metadata": {},
          "execution_count": 19
        }
      ]
    },
    {
      "cell_type": "code",
      "source": [],
      "metadata": {
        "id": "grK00gOcgJ3_"
      },
      "execution_count": null,
      "outputs": []
    },
    {
      "cell_type": "code",
      "source": [
        "#function to calculate predicted y values\n",
        "def prediction(w,b,x,y):\n",
        "  y_pred = np.dot(x,w)+b\n",
        "  return y_pred\n"
      ],
      "metadata": {
        "id": "N5BWz2j7EIpi"
      },
      "execution_count": null,
      "outputs": []
    },
    {
      "cell_type": "code",
      "source": [
        "#function to calculate costfunction\n",
        "def costfunction(w,b,x,y):\n",
        "  m = x.shape[0]\n",
        "  j =0\n",
        "  for i in range(m):\n",
        "    y_pred = prediction(w,b,x[i],y[i])\n",
        "    dif = (y_pred -y[i])**2\n",
        "    j = j + dif\n",
        "\n",
        "  j = dif/(2*m)\n",
        "  return j\n"
      ],
      "metadata": {
        "colab": {
          "base_uri": "https://localhost:8080/"
        },
        "id": "b1cUKOxkP4l_",
        "outputId": "212f3acd-1a64-4e60-e0ad-a9d7eefd3c48"
      },
      "execution_count": null,
      "outputs": [
        {
          "output_type": "execute_result",
          "data": {
            "text/plain": [
              "49.925960762688895"
            ]
          },
          "metadata": {},
          "execution_count": 73
        }
      ]
    },
    {
      "cell_type": "code",
      "source": [
        "#function to calculate gradient of any value\n",
        "def gradient(w,b,x,y):\n",
        "  m,n = x.shape\n",
        "  dj_dw = np.zeros((n,))\n",
        "  dj_db = 0.\n",
        "  for i in range(m):\n",
        "    y_pred = prediction(w,b,x[i],y)\n",
        "    error = (y_pred - y[i])\n",
        "    for j in range(n):\n",
        "      dj_dw[j] = dj_dw[j] + error*x[i][j]\n",
        "    dj_db = dj_db + error\n",
        "    #print(i,dj_dw,dj_db)\n",
        "  dj_db = dj_db/m\n",
        "  dj_dw = dj_dw/m\n",
        "  return dj_dw,dj_db\n",
        "\n",
        "#w1 = [0]\n",
        "#b = 0\n",
        "#tharak = gradient(w1,b,x_train,y_train)\n"
      ],
      "metadata": {
        "colab": {
          "base_uri": "https://localhost:8080/"
        },
        "id": "MijlF5CDUDX7",
        "outputId": "3e4b950e-33a1-48d1-c621-7eede2e2a136"
      },
      "execution_count": null,
      "outputs": [
        {
          "output_type": "execute_result",
          "data": {
            "text/plain": [
              "(array([-19365.76759413]), -99.86815377333338)"
            ]
          },
          "metadata": {},
          "execution_count": 84
        }
      ]
    },
    {
      "cell_type": "code",
      "source": [
        "#function to calculate gdescent\n",
        "import copy\n",
        "def gradientdescent(w,b,x,y,alpha):\n",
        "    dj_dw, dj_db = gradient(w,b,x,y)\n",
        "    w = w - (alpha * dj_dw)\n",
        "    b = b - (alpha * dj_db)\n",
        "    return w,b\n",
        "\n",
        "#w1 = [0]\n",
        "#b = 0\n",
        "#tharak = gradientdescent(w1,b,x_train,y_train,0.1)\n",
        "#tharak"
      ],
      "metadata": {
        "colab": {
          "base_uri": "https://localhost:8080/"
        },
        "id": "c8hB4V_SVhR8",
        "outputId": "3b30b9c2-932e-4b94-9982-c8257240e0e0"
      },
      "execution_count": null,
      "outputs": [
        {
          "output_type": "execute_result",
          "data": {
            "text/plain": [
              "(array([1936.57675941]), 9.986815377333338)"
            ]
          },
          "metadata": {},
          "execution_count": 88
        }
      ]
    },
    {
      "cell_type": "code",
      "source": [
        "# function to keep calculating gradient descent for given no of iterations\n",
        "def param(w_in,b_in,x,y,alpha,iter):\n",
        "  w = copy.deepcopy(w_in)\n",
        "  b = b_in\n",
        "  for i in range(iter):\n",
        "    w,b = gradientdescent(w,b,x,y,alpha)\n",
        "    #l = costfunction(w,b,x,y)\n",
        "    #print(i, l , w, b)\n",
        "  return w,b\n",
        "\n",
        "##w1 = [0]\n",
        "#b1 = 0\n",
        "#p,q = param(w1,b1,x_train,y_train,5e-7, 1000)\n"
      ],
      "metadata": {
        "id": "4dkWTu9tcTTY"
      },
      "execution_count": null,
      "outputs": []
    },
    {
      "cell_type": "code",
      "source": [
        "plt.scatter(x_train,y_train, s= 5)\n",
        "y_pred = prediction(p,q,x_train,y_train)\n",
        "plt.plot(x_train, y_pred)"
      ],
      "metadata": {
        "colab": {
          "base_uri": "https://localhost:8080/",
          "height": 447
        },
        "id": "7QThpdhnfIyb",
        "outputId": "1a963f87-d819-4683-b8ee-e494c14a0f8e"
      },
      "execution_count": null,
      "outputs": [
        {
          "output_type": "execute_result",
          "data": {
            "text/plain": [
              "[<matplotlib.lines.Line2D at 0x7b1d5045d870>]"
            ]
          },
          "metadata": {},
          "execution_count": 102
        },
        {
          "output_type": "display_data",
          "data": {
            "text/plain": [
              "<Figure size 640x480 with 1 Axes>"
            ],
            "image/png": "[encoded data removed]"
          },
          "metadata": {}
        }
      ]
    },
    {
      "cell_type": "markdown",
      "source": [
        "**Training model For new Data**"
      ],
      "metadata": {
        "id": "egsJbOqMxp2x"
      }
    },
    {
      "cell_type": "code",
      "source": [
        "newdf = pd.read_csv('/content/drive/MyDrive/data/Real estate.csv')\n",
        "x = newdf.drop(['Y house price of unit area'], axis=1)\n",
        "y = newdf[['Y house price of unit area']]\n",
        "x_train,x_test,y_train,y_test = train_test_split(x,y)\n"
      ],
      "metadata": {
        "id": "gGW0zn-jfvB1"
      },
      "execution_count": null,
      "outputs": []
    },
    {
      "cell_type": "code",
      "source": [
        "#split the data into training and testing set\n",
        "x_train,x_test,y_train,y_test  = train_test_split(x,y)\n",
        "x_train=x_train.reset_index(drop=True)\n",
        "x_test=x_test.reset_index(drop=True)\n",
        "y_train=y_train.reset_index(drop=True)\n",
        "y_test=y_test.reset_index(drop=True)\n",
        "x_train = x_train.drop(columns = ['No'])\n",
        "x_train"
      ],
      "metadata": {
        "colab": {
          "base_uri": "https://localhost:8080/",
          "height": 423
        },
        "id": "Bu1pHv5fgKw7",
        "outputId": "3a738a46-5446-4b1c-847f-fc6682e03906"
      },
      "execution_count": null,
      "outputs": [
        {
          "output_type": "execute_result",
          "data": {
            "text/plain": [
              "     X1 transaction date  X2 house age  \\\n",
              "0               2013.083           1.1   \n",
              "1               2013.417           0.0   \n",
              "2               2013.167          32.6   \n",
              "3               2012.833           3.4   \n",
              "4               2013.333           1.7   \n",
              "..                   ...           ...   \n",
              "305             2012.833           0.0   \n",
              "306             2013.083          17.2   \n",
              "307             2013.167          13.8   \n",
              "308             2013.417          20.3   \n",
              "309             2013.083           0.0   \n",
              "\n",
              "     X3 distance to the nearest MRT station  X4 number of convenience stores  \\\n",
              "0                                 193.58450                                6   \n",
              "1                                 338.96790                                9   \n",
              "2                                 493.65700                                7   \n",
              "3                                  56.47425                                7   \n",
              "4                                 329.97470                                5   \n",
              "..                                      ...                              ...   \n",
              "305                               274.01440                                1   \n",
              "306                               189.51810                                8   \n",
              "307                              4082.01500                                0   \n",
              "308                               287.60250                                6   \n",
              "309                               274.01440                                1   \n",
              "\n",
              "     X5 latitude  X6 longitude  \n",
              "0       24.96571     121.54089  \n",
              "1       24.96853     121.54413  \n",
              "2       24.96968     121.54522  \n",
              "3       24.95744     121.53711  \n",
              "4       24.98254     121.54395  \n",
              "..           ...           ...  \n",
              "305     24.97480     121.53059  \n",
              "306     24.97707     121.54308  \n",
              "307     24.94155     121.50381  \n",
              "308     24.98042     121.54228  \n",
              "309     24.97480     121.53059  \n",
              "\n",
              "[310 rows x 6 columns]"
            ],
            "text/html": [
              "\n",
              "\n",
              "  <div id=\"df-7716af68-86ab-4e8a-b15b-51c7e8810b4c\">\n",
              "    <div class=\"colab-df-container\">\n",
              "      <div>\n",
              "<style scoped>\n",
              "    .dataframe tbody tr th:only-of-type {\n",
              "        vertical-align: middle;\n",
              "    }\n",
              "\n",
              "    .dataframe tbody tr th {\n",
              "        vertical-align: top;\n",
              "    }\n",
              "\n",
              "    .dataframe thead th {\n",
              "        text-align: right;\n",
              "    }\n",
              "</style>\n",
              "<table border=\"1\" class=\"dataframe\">\n",
              "  <thead>\n",
              "    <tr style=\"text-align: right;\">\n",
              "      <th></th>\n",
              "      <th>X1 transaction date</th>\n",
              "      <th>X2 house age</th>\n",
              "      <th>X3 distance to the nearest MRT station</th>\n",
              "      <th>X4 number of convenience stores</th>\n",
              "      <th>X5 latitude</th>\n",
              "      <th>X6 longitude</th>\n",
              "    </tr>\n",
              "  </thead>\n",
              "  <tbody>\n",
              "    <tr>\n",
              "      <th>0</th>\n",
              "      <td>2013.083</td>\n",
              "      <td>1.1</td>\n",
              "      <td>193.58450</td>\n",
              "      <td>6</td>\n",
              "      <td>24.96571</td>\n",
              "      <td>121.54089</td>\n",
              "    </tr>\n",
              "    <tr>\n",
              "      <th>1</th>\n",
              "      <td>2013.417</td>\n",
              "      <td>0.0</td>\n",
              "      <td>338.96790</td>\n",
              "      <td>9</td>\n",
              "      <td>24.96853</td>\n",
              "      <td>121.54413</td>\n",
              "    </tr>\n",
              "    <tr>\n",
              "      <th>2</th>\n",
              "      <td>2013.167</td>\n",
              "      <td>32.6</td>\n",
              "      <td>493.65700</td>\n",
              "      <td>7</td>\n",
              "      <td>24.96968</td>\n",
              "      <td>121.54522</td>\n",
              "    </tr>\n",
              "    <tr>\n",
              "      <th>3</th>\n",
              "      <td>2012.833</td>\n",
              "      <td>3.4</td>\n",
              "      <td>56.47425</td>\n",
              "      <td>7</td>\n",
              "      <td>24.95744</td>\n",
              "      <td>121.53711</td>\n",
              "    </tr>\n",
              "    <tr>\n",
              "      <th>4</th>\n",
              "      <td>2013.333</td>\n",
              "      <td>1.7</td>\n",
              "      <td>329.97470</td>\n",
              "      <td>5</td>\n",
              "      <td>24.98254</td>\n",
              "      <td>121.54395</td>\n",
              "    </tr>\n",
              "    <tr>\n",
              "      <th>...</th>\n",
              "      <td>...</td>\n",
              "      <td>...</td>\n",
              "      <td>...</td>\n",
              "      <td>...</td>\n",
              "      <td>...</td>\n",
              "      <td>...</td>\n",
              "    </tr>\n",
              "    <tr>\n",
              "      <th>305</th>\n",
              "      <td>2012.833</td>\n",
              "      <td>0.0</td>\n",
              "      <td>274.01440</td>\n",
              "      <td>1</td>\n",
              "      <td>24.97480</td>\n",
              "      <td>121.53059</td>\n",
              "    </tr>\n",
              "    <tr>\n",
              "      <th>306</th>\n",
              "      <td>2013.083</td>\n",
              "      <td>17.2</td>\n",
              "      <td>189.51810</td>\n",
              "      <td>8</td>\n",
              "      <td>24.97707</td>\n",
              "      <td>121.54308</td>\n",
              "    </tr>\n",
              "    <tr>\n",
              "      <th>307</th>\n",
              "      <td>2013.167</td>\n",
              "      <td>13.8</td>\n",
              "      <td>4082.01500</td>\n",
              "      <td>0</td>\n",
              "      <td>24.94155</td>\n",
              "      <td>121.50381</td>\n",
              "    </tr>\n",
              "    <tr>\n",
              "      <th>308</th>\n",
              "      <td>2013.417</td>\n",
              "      <td>20.3</td>\n",
              "      <td>287.60250</td>\n",
              "      <td>6</td>\n",
              "      <td>24.98042</td>\n",
              "      <td>121.54228</td>\n",
              "    </tr>\n",
              "    <tr>\n",
              "      <th>309</th>\n",
              "      <td>2013.083</td>\n",
              "      <td>0.0</td>\n",
              "      <td>274.01440</td>\n",
              "      <td>1</td>\n",
              "      <td>24.97480</td>\n",
              "      <td>121.53059</td>\n",
              "    </tr>\n",
              "  </tbody>\n",
              "</table>\n",
              "<p>310 rows × 6 columns</p>\n",
              "</div>\n",
              "      <button class=\"colab-df-convert\" onclick=\"convertToInteractive('df-7716af68-86ab-4e8a-b15b-51c7e8810b4c')\"\n",
              "              title=\"Convert this dataframe to an interactive table.\"\n",
              "              style=\"display:none;\">\n",
              "\n",
              "  <svg xmlns=\"http://www.w3.org/2000/svg\" height=\"24px\"viewBox=\"0 0 24 24\"\n",
              "       width=\"24px\">\n",
              "    <path d=\"M0 0h24v24H0V0z\" fill=\"none\"/>\n",
              "    <path d=\"M18.56 5.44l.94 2.06.94-2.06 2.06-.94-2.06-.94-.94-2.06-.94 2.06-2.06.94zm-11 1L8.5 8.5l.94-2.06 2.06-.94-2.06-.94L8.5 2.5l-.94 2.06-2.06.94zm10 10l.94 2.06.94-2.06 2.06-.94-2.06-.94-.94-2.06-.94 2.06-2.06.94z\"/><path d=\"M17.41 7.96l-1.37-1.37c-.4-.4-.92-.59-1.43-.59-.52 0-1.04.2-1.43.59L10.3 9.45l-7.72 7.72c-.78.78-.78 2.05 0 2.83L4 21.41c.39.39.9.59 1.41.59.51 0 1.02-.2 1.41-.59l7.78-7.78 2.81-2.81c.8-.78.8-2.07 0-2.86zM5.41 20L4 18.59l7.72-7.72 1.47 1.35L5.41 20z\"/>\n",
              "  </svg>\n",
              "      </button>\n",
              "\n",
              "\n",
              "\n",
              "    <div id=\"df-244bb1e3-f59f-43fd-b59a-94a39409facf\">\n",
              "      <button class=\"colab-df-quickchart\" onclick=\"quickchart('df-244bb1e3-f59f-43fd-b59a-94a39409facf')\"\n",
              "              title=\"Suggest charts.\"\n",
              "              style=\"display:none;\">\n",
              "\n",
              "<svg xmlns=\"http://www.w3.org/2000/svg\" height=\"24px\"viewBox=\"0 0 24 24\"\n",
              "     width=\"24px\">\n",
              "    <g>\n",
              "        <path d=\"M19 3H5c-1.1 0-2 .9-2 2v14c0 1.1.9 2 2 2h14c1.1 0 2-.9 2-2V5c0-1.1-.9-2-2-2zM9 17H7v-7h2v7zm4 0h-2V7h2v10zm4 0h-2v-4h2v4z\"/>\n",
              "    </g>\n",
              "</svg>\n",
              "      </button>\n",
              "    </div>\n",
              "\n",
              "<style>\n",
              "  .colab-df-quickchart {\n",
              "    background-color: #E8F0FE;\n",
              "    border: none;\n",
              "    border-radius: 50%;\n",
              "    cursor: pointer;\n",
              "    display: none;\n",
              "    fill: #1967D2;\n",
              "    height: 32px;\n",
              "    padding: 0 0 0 0;\n",
              "    width: 32px;\n",
              "  }\n",
              "\n",
              "  .colab-df-quickchart:hover {\n",
              "    background-color: #E2EBFA;\n",
              "    box-shadow: 0px 1px 2px rgba(60, 64, 67, 0.3), 0px 1px 3px 1px rgba(60, 64, 67, 0.15);\n",
              "    fill: #174EA6;\n",
              "  }\n",
              "\n",
              "  [theme=dark] .colab-df-quickchart {\n",
              "    background-color: #3B4455;\n",
              "    fill: #D2E3FC;\n",
              "  }\n",
              "\n",
              "  [theme=dark] .colab-df-quickchart:hover {\n",
              "    background-color: #434B5C;\n",
              "    box-shadow: 0px 1px 3px 1px rgba(0, 0, 0, 0.15);\n",
              "    filter: drop-shadow(0px 1px 2px rgba(0, 0, 0, 0.3));\n",
              "    fill: #FFFFFF;\n",
              "  }\n",
              "</style>\n",
              "\n",
              "    <script>\n",
              "      async function quickchart(key) {\n",
              "        const containerElement = document.querySelector('#' + key);\n",
              "        const charts = await google.colab.kernel.invokeFunction(\n",
              "            'suggestCharts', [key], {});\n",
              "      }\n",
              "    </script>\n",
              "\n",
              "      <script>\n",
              "\n",
              "function displayQuickchartButton(domScope) {\n",
              "  let quickchartButtonEl =\n",
              "    domScope.querySelector('#df-244bb1e3-f59f-43fd-b59a-94a39409facf button.colab-df-quickchart');\n",
              "  quickchartButtonEl.style.display =\n",
              "    google.colab.kernel.accessAllowed ? 'block' : 'none';\n",
              "}\n",
              "\n",
              "        displayQuickchartButton(document);\n",
              "      </script>\n",
              "      <style>\n",
              "    .colab-df-container {\n",
              "      display:flex;\n",
              "      flex-wrap:wrap;\n",
              "      gap: 12px;\n",
              "    }\n",
              "\n",
              "    .colab-df-convert {\n",
              "      background-color: #E8F0FE;\n",
              "      border: none;\n",
              "      border-radius: 50%;\n",
              "      cursor: pointer;\n",
              "      display: none;\n",
              "      fill: #1967D2;\n",
              "      height: 32px;\n",
              "      padding: 0 0 0 0;\n",
              "      width: 32px;\n",
              "    }\n",
              "\n",
              "    .colab-df-convert:hover {\n",
              "      background-color: #E2EBFA;\n",
              "      box-shadow: 0px 1px 2px rgba(60, 64, 67, 0.3), 0px 1px 3px 1px rgba(60, 64, 67, 0.15);\n",
              "      fill: #174EA6;\n",
              "    }\n",
              "\n",
              "    [theme=dark] .colab-df-convert {\n",
              "      background-color: #3B4455;\n",
              "      fill: #D2E3FC;\n",
              "    }\n",
              "\n",
              "    [theme=dark] .colab-df-convert:hover {\n",
              "      background-color: #434B5C;\n",
              "      box-shadow: 0px 1px 3px 1px rgba(0, 0, 0, 0.15);\n",
              "      filter: drop-shadow(0px 1px 2px rgba(0, 0, 0, 0.3));\n",
              "      fill: #FFFFFF;\n",
              "    }\n",
              "  </style>\n",
              "\n",
              "      <script>\n",
              "        const buttonEl =\n",
              "          document.querySelector('#df-7716af68-86ab-4e8a-b15b-51c7e8810b4c button.colab-df-convert');\n",
              "        buttonEl.style.display =\n",
              "          google.colab.kernel.accessAllowed ? 'block' : 'none';\n",
              "\n",
              "        async function convertToInteractive(key) {\n",
              "          const element = document.querySelector('#df-7716af68-86ab-4e8a-b15b-51c7e8810b4c');\n",
              "          const dataTable =\n",
              "            await google.colab.kernel.invokeFunction('convertToInteractive',\n",
              "                                                     [key], {});\n",
              "          if (!dataTable) return;\n",
              "\n",
              "          const docLinkHtml = 'Like what you see? Visit the ' +\n",
              "            '<a target=\"_blank\" href=https://colab.research.google.com/notebooks/data_table.ipynb>data table notebook</a>'\n",
              "            + ' to learn more about interactive tables.';\n",
              "          element.innerHTML = '';\n",
              "          dataTable['output_type'] = 'display_data';\n",
              "          await google.colab.output.renderOutput(dataTable, element);\n",
              "          const docLink = document.createElement('div');\n",
              "          docLink.innerHTML = docLinkHtml;\n",
              "          element.appendChild(docLink);\n",
              "        }\n",
              "      </script>\n",
              "    </div>\n",
              "  </div>\n"
            ]
          },
          "metadata": {},
          "execution_count": 171
        }
      ]
    },
    {
      "cell_type": "code",
      "source": [
        "# linitialising the parameters\n",
        "w_in = np.array([0,0,0,0,0,0])\n",
        "b_in = 0\n",
        "x_train = np.array(x_train)\n",
        "y_train = np.array(y_train)\n",
        "x_train.shape\n"
      ],
      "metadata": {
        "colab": {
          "base_uri": "https://localhost:8080/"
        },
        "id": "zAXJ4cgIgShg",
        "outputId": "d2bea670-882f-47e3-ea44-9dc521b0f5ae"
      },
      "execution_count": null,
      "outputs": [
        {
          "output_type": "execute_result",
          "data": {
            "text/plain": [
              "(310, 6)"
            ]
          },
          "metadata": {},
          "execution_count": 172
        }
      ]
    },
    {
      "cell_type": "code",
      "source": [
        "p,q = param(w_in, b_in, x_train, y_train,5e-10,12000)\n",
        "y_pred_train = prediction(p,q,x_train,y_train)\n"
      ],
      "metadata": {
        "id": "JFg8dKu3gXh9"
      },
      "execution_count": null,
      "outputs": []
    },
    {
      "cell_type": "code",
      "source": [
        "from sklearn.metrics import mean_squared_error,r2_score\n",
        "r2_score(y_pred = y_pred_train,y_true = y_train)"
      ],
      "metadata": {
        "colab": {
          "base_uri": "https://localhost:8080/"
        },
        "id": "zyuA5KI5pOCL",
        "outputId": "a7127a31-a3ee-46d1-eeaf-b96ac9723e23"
      },
      "execution_count": null,
      "outputs": [
        {
          "output_type": "execute_result",
          "data": {
            "text/plain": [
              "0.46298837176364005"
            ]
          },
          "metadata": {},
          "execution_count": 197
        }
      ]
    },
    {
      "cell_type": "code",
      "source": [
        "qw = pd.DataFrame(x_train, columns = ['A','B','C','D','E','F'])\n",
        "y_pred = prediction(p,q,x_train,y_train)\n",
        "ad = pd.DataFrame(y_pred_train)\n",
        "qw['y_pred'] = ad\n",
        "ak = pd.DataFrame(y_train)\n",
        "qw['y_true'] = ak"
      ],
      "metadata": {
        "id": "udmovOrylaIP"
      },
      "execution_count": null,
      "outputs": []
    },
    {
      "cell_type": "code",
      "source": [
        "qw\n"
      ],
      "metadata": {
        "colab": {
          "base_uri": "https://localhost:8080/",
          "height": 423
        },
        "id": "y8wpvcIimp8d",
        "outputId": "03cf8426-2f89-4dff-e6b7-a5740b24cc14"
      },
      "execution_count": null,
      "outputs": [
        {
          "output_type": "execute_result",
          "data": {
            "text/plain": [
              "            A     B           C    D         E          F     y_pred  y_true\n",
              "0    2013.083   1.1   193.58450  6.0  24.96571  121.54089  44.363724    54.4\n",
              "1    2013.417   0.0   338.96790  9.0  24.96853  121.54413  43.338950    44.9\n",
              "2    2013.167  32.6   493.65700  7.0  24.96968  121.54522  42.235102    40.6\n",
              "3    2012.833   3.4    56.47425  7.0  24.95744  121.53711  45.332078    54.4\n",
              "4    2013.333   1.7   329.97470  5.0  24.98254  121.54395  43.400552    50.4\n",
              "..        ...   ...         ...  ...       ...        ...        ...     ...\n",
              "305  2012.833   0.0   274.01440  1.0  24.97480  121.53059  43.786233    45.4\n",
              "306  2013.083  17.2   189.51810  8.0  24.97707  121.54308  44.393187    47.1\n",
              "307  2013.167  13.8  4082.01500  0.0  24.94155  121.50381  16.746566    20.0\n",
              "308  2013.417  20.3   287.60250  6.0  24.98042  121.54228  43.703937    46.7\n",
              "309  2013.083   0.0   274.01440  1.0  24.97480  121.53059  43.791892    52.2\n",
              "\n",
              "[310 rows x 8 columns]"
            ],
            "text/html": [
              "\n",
              "\n",
              "  <div id=\"df-7a004d58-58c8-413e-a36d-3a716408e902\">\n",
              "    <div class=\"colab-df-container\">\n",
              "      <div>\n",
              "<style scoped>\n",
              "    .dataframe tbody tr th:only-of-type {\n",
              "        vertical-align: middle;\n",
              "    }\n",
              "\n",
              "    .dataframe tbody tr th {\n",
              "        vertical-align: top;\n",
              "    }\n",
              "\n",
              "    .dataframe thead th {\n",
              "        text-align: right;\n",
              "    }\n",
              "</style>\n",
              "<table border=\"1\" class=\"dataframe\">\n",
              "  <thead>\n",
              "    <tr style=\"text-align: right;\">\n",
              "      <th></th>\n",
              "      <th>A</th>\n",
              "      <th>B</th>\n",
              "      <th>C</th>\n",
              "      <th>D</th>\n",
              "      <th>E</th>\n",
              "      <th>F</th>\n",
              "      <th>y_pred</th>\n",
              "      <th>y_true</th>\n",
              "    </tr>\n",
              "  </thead>\n",
              "  <tbody>\n",
              "    <tr>\n",
              "      <th>0</th>\n",
              "      <td>2013.083</td>\n",
              "      <td>1.1</td>\n",
              "      <td>193.58450</td>\n",
              "      <td>6.0</td>\n",
              "      <td>24.96571</td>\n",
              "      <td>121.54089</td>\n",
              "      <td>44.363724</td>\n",
              "      <td>54.4</td>\n",
              "    </tr>\n",
              "    <tr>\n",
              "      <th>1</th>\n",
              "      <td>2013.417</td>\n",
              "      <td>0.0</td>\n",
              "      <td>338.96790</td>\n",
              "      <td>9.0</td>\n",
              "      <td>24.96853</td>\n",
              "      <td>121.54413</td>\n",
              "      <td>43.338950</td>\n",
              "      <td>44.9</td>\n",
              "    </tr>\n",
              "    <tr>\n",
              "      <th>2</th>\n",
              "      <td>2013.167</td>\n",
              "      <td>32.6</td>\n",
              "      <td>493.65700</td>\n",
              "      <td>7.0</td>\n",
              "      <td>24.96968</td>\n",
              "      <td>121.54522</td>\n",
              "      <td>42.235102</td>\n",
              "      <td>40.6</td>\n",
              "    </tr>\n",
              "    <tr>\n",
              "      <th>3</th>\n",
              "      <td>2012.833</td>\n",
              "      <td>3.4</td>\n",
              "      <td>56.47425</td>\n",
              "      <td>7.0</td>\n",
              "      <td>24.95744</td>\n",
              "      <td>121.53711</td>\n",
              "      <td>45.332078</td>\n",
              "      <td>54.4</td>\n",
              "    </tr>\n",
              "    <tr>\n",
              "      <th>4</th>\n",
              "      <td>2013.333</td>\n",
              "      <td>1.7</td>\n",
              "      <td>329.97470</td>\n",
              "      <td>5.0</td>\n",
              "      <td>24.98254</td>\n",
              "      <td>121.54395</td>\n",
              "      <td>43.400552</td>\n",
              "      <td>50.4</td>\n",
              "    </tr>\n",
              "    <tr>\n",
              "      <th>...</th>\n",
              "      <td>...</td>\n",
              "      <td>...</td>\n",
              "      <td>...</td>\n",
              "      <td>...</td>\n",
              "      <td>...</td>\n",
              "      <td>...</td>\n",
              "      <td>...</td>\n",
              "      <td>...</td>\n",
              "    </tr>\n",
              "    <tr>\n",
              "      <th>305</th>\n",
              "      <td>2012.833</td>\n",
              "      <td>0.0</td>\n",
              "      <td>274.01440</td>\n",
              "      <td>1.0</td>\n",
              "      <td>24.97480</td>\n",
              "      <td>121.53059</td>\n",
              "      <td>43.786233</td>\n",
              "      <td>45.4</td>\n",
              "    </tr>\n",
              "    <tr>\n",
              "      <th>306</th>\n",
              "      <td>2013.083</td>\n",
              "      <td>17.2</td>\n",
              "      <td>189.51810</td>\n",
              "      <td>8.0</td>\n",
              "      <td>24.97707</td>\n",
              "      <td>121.54308</td>\n",
              "      <td>44.393187</td>\n",
              "      <td>47.1</td>\n",
              "    </tr>\n",
              "    <tr>\n",
              "      <th>307</th>\n",
              "      <td>2013.167</td>\n",
              "      <td>13.8</td>\n",
              "      <td>4082.01500</td>\n",
              "      <td>0.0</td>\n",
              "      <td>24.94155</td>\n",
              "      <td>121.50381</td>\n",
              "      <td>16.746566</td>\n",
              "      <td>20.0</td>\n",
              "    </tr>\n",
              "    <tr>\n",
              "      <th>308</th>\n",
              "      <td>2013.417</td>\n",
              "      <td>20.3</td>\n",
              "      <td>287.60250</td>\n",
              "      <td>6.0</td>\n",
              "      <td>24.98042</td>\n",
              "      <td>121.54228</td>\n",
              "      <td>43.703937</td>\n",
              "      <td>46.7</td>\n",
              "    </tr>\n",
              "    <tr>\n",
              "      <th>309</th>\n",
              "      <td>2013.083</td>\n",
              "      <td>0.0</td>\n",
              "      <td>274.01440</td>\n",
              "      <td>1.0</td>\n",
              "      <td>24.97480</td>\n",
              "      <td>121.53059</td>\n",
              "      <td>43.791892</td>\n",
              "      <td>52.2</td>\n",
              "    </tr>\n",
              "  </tbody>\n",
              "</table>\n",
              "<p>310 rows × 8 columns</p>\n",
              "</div>\n",
              "      <button class=\"colab-df-convert\" onclick=\"convertToInteractive('df-7a004d58-58c8-413e-a36d-3a716408e902')\"\n",
              "              title=\"Convert this dataframe to an interactive table.\"\n",
              "              style=\"display:none;\">\n",
              "\n",
              "  <svg xmlns=\"http://www.w3.org/2000/svg\" height=\"24px\"viewBox=\"0 0 24 24\"\n",
              "       width=\"24px\">\n",
              "    <path d=\"M0 0h24v24H0V0z\" fill=\"none\"/>\n",
              "    <path d=\"M18.56 5.44l.94 2.06.94-2.06 2.06-.94-2.06-.94-.94-2.06-.94 2.06-2.06.94zm-11 1L8.5 8.5l.94-2.06 2.06-.94-2.06-.94L8.5 2.5l-.94 2.06-2.06.94zm10 10l.94 2.06.94-2.06 2.06-.94-2.06-.94-.94-2.06-.94 2.06-2.06.94z\"/><path d=\"M17.41 7.96l-1.37-1.37c-.4-.4-.92-.59-1.43-.59-.52 0-1.04.2-1.43.59L10.3 9.45l-7.72 7.72c-.78.78-.78 2.05 0 2.83L4 21.41c.39.39.9.59 1.41.59.51 0 1.02-.2 1.41-.59l7.78-7.78 2.81-2.81c.8-.78.8-2.07 0-2.86zM5.41 20L4 18.59l7.72-7.72 1.47 1.35L5.41 20z\"/>\n",
              "  </svg>\n",
              "      </button>\n",
              "\n",
              "\n",
              "\n",
              "    <div id=\"df-c2588565-9613-4a20-8d25-de1b805e78ce\">\n",
              "      <button class=\"colab-df-quickchart\" onclick=\"quickchart('df-c2588565-9613-4a20-8d25-de1b805e78ce')\"\n",
              "              title=\"Suggest charts.\"\n",
              "              style=\"display:none;\">\n",
              "\n",
              "<svg xmlns=\"http://www.w3.org/2000/svg\" height=\"24px\"viewBox=\"0 0 24 24\"\n",
              "     width=\"24px\">\n",
              "    <g>\n",
              "        <path d=\"M19 3H5c-1.1 0-2 .9-2 2v14c0 1.1.9 2 2 2h14c1.1 0 2-.9 2-2V5c0-1.1-.9-2-2-2zM9 17H7v-7h2v7zm4 0h-2V7h2v10zm4 0h-2v-4h2v4z\"/>\n",
              "    </g>\n",
              "</svg>\n",
              "      </button>\n",
              "    </div>\n",
              "\n",
              "<style>\n",
              "  .colab-df-quickchart {\n",
              "    background-color: #E8F0FE;\n",
              "    border: none;\n",
              "    border-radius: 50%;\n",
              "    cursor: pointer;\n",
              "    display: none;\n",
              "    fill: #1967D2;\n",
              "    height: 32px;\n",
              "    padding: 0 0 0 0;\n",
              "    width: 32px;\n",
              "  }\n",
              "\n",
              "  .colab-df-quickchart:hover {\n",
              "    background-color: #E2EBFA;\n",
              "    box-shadow: 0px 1px 2px rgba(60, 64, 67, 0.3), 0px 1px 3px 1px rgba(60, 64, 67, 0.15);\n",
              "    fill: #174EA6;\n",
              "  }\n",
              "\n",
              "  [theme=dark] .colab-df-quickchart {\n",
              "    background-color: #3B4455;\n",
              "    fill: #D2E3FC;\n",
              "  }\n",
              "\n",
              "  [theme=dark] .colab-df-quickchart:hover {\n",
              "    background-color: #434B5C;\n",
              "    box-shadow: 0px 1px 3px 1px rgba(0, 0, 0, 0.15);\n",
              "    filter: drop-shadow(0px 1px 2px rgba(0, 0, 0, 0.3));\n",
              "    fill: #FFFFFF;\n",
              "  }\n",
              "</style>\n",
              "\n",
              "    <script>\n",
              "      async function quickchart(key) {\n",
              "        const containerElement = document.querySelector('#' + key);\n",
              "        const charts = await google.colab.kernel.invokeFunction(\n",
              "            'suggestCharts', [key], {});\n",
              "      }\n",
              "    </script>\n",
              "\n",
              "      <script>\n",
              "\n",
              "function displayQuickchartButton(domScope) {\n",
              "  let quickchartButtonEl =\n",
              "    domScope.querySelector('#df-c2588565-9613-4a20-8d25-de1b805e78ce button.colab-df-quickchart');\n",
              "  quickchartButtonEl.style.display =\n",
              "    google.colab.kernel.accessAllowed ? 'block' : 'none';\n",
              "}\n",
              "\n",
              "        displayQuickchartButton(document);\n",
              "      </script>\n",
              "      <style>\n",
              "    .colab-df-container {\n",
              "      display:flex;\n",
              "      flex-wrap:wrap;\n",
              "      gap: 12px;\n",
              "    }\n",
              "\n",
              "    .colab-df-convert {\n",
              "      background-color: #E8F0FE;\n",
              "      border: none;\n",
              "      border-radius: 50%;\n",
              "      cursor: pointer;\n",
              "      display: none;\n",
              "      fill: #1967D2;\n",
              "      height: 32px;\n",
              "      padding: 0 0 0 0;\n",
              "      width: 32px;\n",
              "    }\n",
              "\n",
              "    .colab-df-convert:hover {\n",
              "      background-color: #E2EBFA;\n",
              "      box-shadow: 0px 1px 2px rgba(60, 64, 67, 0.3), 0px 1px 3px 1px rgba(60, 64, 67, 0.15);\n",
              "      fill: #174EA6;\n",
              "    }\n",
              "\n",
              "    [theme=dark] .colab-df-convert {\n",
              "      background-color: #3B4455;\n",
              "      fill: #D2E3FC;\n",
              "    }\n",
              "\n",
              "    [theme=dark] .colab-df-convert:hover {\n",
              "      background-color: #434B5C;\n",
              "      box-shadow: 0px 1px 3px 1px rgba(0, 0, 0, 0.15);\n",
              "      filter: drop-shadow(0px 1px 2px rgba(0, 0, 0, 0.3));\n",
              "      fill: #FFFFFF;\n",
              "    }\n",
              "  </style>\n",
              "\n",
              "      <script>\n",
              "        const buttonEl =\n",
              "          document.querySelector('#df-7a004d58-58c8-413e-a36d-3a716408e902 button.colab-df-convert');\n",
              "        buttonEl.style.display =\n",
              "          google.colab.kernel.accessAllowed ? 'block' : 'none';\n",
              "\n",
              "        async function convertToInteractive(key) {\n",
              "          const element = document.querySelector('#df-7a004d58-58c8-413e-a36d-3a716408e902');\n",
              "          const dataTable =\n",
              "            await google.colab.kernel.invokeFunction('convertToInteractive',\n",
              "                                                     [key], {});\n",
              "          if (!dataTable) return;\n",
              "\n",
              "          const docLinkHtml = 'Like what you see? Visit the ' +\n",
              "            '<a target=\"_blank\" href=https://colab.research.google.com/notebooks/data_table.ipynb>data table notebook</a>'\n",
              "            + ' to learn more about interactive tables.';\n",
              "          element.innerHTML = '';\n",
              "          dataTable['output_type'] = 'display_data';\n",
              "          await google.colab.output.renderOutput(dataTable, element);\n",
              "          const docLink = document.createElement('div');\n",
              "          docLink.innerHTML = docLinkHtml;\n",
              "          element.appendChild(docLink);\n",
              "        }\n",
              "      </script>\n",
              "    </div>\n",
              "  </div>\n"
            ]
          },
          "metadata": {},
          "execution_count": 206
        }
      ]
    },
    {
      "cell_type": "code",
      "source": [
        "#plotting the data between house age and price\n",
        "\n",
        "plt.scatter(qw['B'],qw['y_true'], s =5,)\n",
        "plt.scatter(qw['B'],qw['y_pred'],s =5 ,)\n",
        "plt.xlabel(\"house age\")\n",
        "plt.ylabel(\"price\")\n",
        "plt.title(\"plot house age v/s price\")\n",
        "plt.show()"
      ],
      "metadata": {
        "colab": {
          "base_uri": "https://localhost:8080/",
          "height": 472
        },
        "id": "5BtF_qsBuuFg",
        "outputId": "cfadce46-d281-42c4-f821-b08963fe5dd4"
      },
      "execution_count": null,
      "outputs": [
        {
          "output_type": "display_data",
          "data": {
            "text/plain": [
              "<Figure size 640x480 with 1 Axes>"
            ],
            "image/png": "[encoded data removed]"
          },
          "metadata": {}
        }
      ]
    },
    {
      "cell_type": "markdown",
      "source": [
        "**testing the data**"
      ],
      "metadata": {
        "id": "VLKNIhnmyWRq"
      }
    },
    {
      "cell_type": "code",
      "source": [
        "x_test = x_test.drop(columns = ['No'])\n",
        "# linitialising the parameters\n",
        "w_in = np.array([0,0,0,0,0,0])\n",
        "b_in = 0\n",
        "x_test = np.array(x_test)\n",
        "y_test = np.array(y_test)\n",
        "x_train.shape\n",
        "y_pred_test = prediction(p,q,x_test,y_test)\n"
      ],
      "metadata": {
        "id": "4R0Fjc_0yZE-"
      },
      "execution_count": null,
      "outputs": []
    },
    {
      "cell_type": "code",
      "source": [
        "r2_score(y_pred = y_pred_test,y_true = y_test) #r2 is similar to r2 error that we got for the training set"
      ],
      "metadata": {
        "colab": {
          "base_uri": "https://localhost:8080/"
        },
        "id": "pS2zcWMPy2rG",
        "outputId": "53b74a3b-4e22-4f49-b288-e4bfa8be2b7d"
      },
      "execution_count": null,
      "outputs": [
        {
          "output_type": "execute_result",
          "data": {
            "text/plain": [
              "0.4235636992112546"
            ]
          },
          "metadata": {},
          "execution_count": 225
        }
      ]
    }
  ]
}